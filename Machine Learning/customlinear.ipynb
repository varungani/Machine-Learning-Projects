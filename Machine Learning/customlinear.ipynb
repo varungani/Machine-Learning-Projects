{
 "cells": [
  {
   "cell_type": "code",
   "execution_count": 1,
   "id": "53dca24b",
   "metadata": {},
   "outputs": [],
   "source": [
    "import numpy as np\n",
    "import seaborn as sns\n",
    "import os\n",
    "import sklearn\n"
   ]
  },
  {
   "cell_type": "code",
   "execution_count": 2,
   "id": "353ac971",
   "metadata": {},
   "outputs": [],
   "source": [
    "class linear :\n",
    "    def __init__(self,lr=0.1):\n",
    "        self.lr=lr\n",
    "    \n",
    "    def fit(x,y):\n",
    "        self._x=x\n",
    "        self._y=y.reshape(-1,1)#reshaping to 2d array otherwise it might give an error\n",
    "        self.coef_=np.random.random()\n",
    "        self.intercept_=np.random.random()\n",
    "        \n",
    "        errors=[]\n",
    "        \n",
    "        for i in range(50):\n",
    "            self.gradient_descent()\n",
    "            errors.append(self.error())\n",
    "        return errors\n",
    "    \n",
    "    def gradient_descent(self):\n",
    "        d_coef,d_intercept=self.gradient()\n",
    "        self.coef_-=d_coef*lr\n",
    "        self.intercept_-=d_intercept*lr\n",
    "    def gradient(self):\n",
    "        yh=self.predict(self.x_)\n",
    "        d_coef=((yh-self._y)*self._x).mean()\n",
    "        d_intercept=(yh-self._y).mean()\n",
    "        return d_coef,d_intercept\n",
    "    def predict(self,x):\n",
    "        return x*self.coef_+self.intercept_\n",
    "    def error(self):\n",
    "        return ((self.predict(self._x)-self._y)**2).sum()\n",
    "        \n",
    "    "
   ]
  },
  {
   "cell_type": "code",
   "execution_count": null,
   "id": "97405e4c",
   "metadata": {},
   "outputs": [],
   "source": []
  }
 ],
 "metadata": {
  "kernelspec": {
   "display_name": "Python 3 (ipykernel)",
   "language": "python",
   "name": "python3"
  },
  "language_info": {
   "codemirror_mode": {
    "name": "ipython",
    "version": 3
   },
   "file_extension": ".py",
   "mimetype": "text/x-python",
   "name": "python",
   "nbconvert_exporter": "python",
   "pygments_lexer": "ipython3",
   "version": "3.11.3"
  }
 },
 "nbformat": 4,
 "nbformat_minor": 5
}
